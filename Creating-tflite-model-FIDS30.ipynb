{
 "cells": [
  {
   "cell_type": "markdown",
   "metadata": {},
   "source": [
    "# Following steps are derived from Tensorflow [codelab](https://codelabs.developers.google.com/?cat=TensorFlow) [one](https://codelabs.developers.google.com/codelabs/tensorflow-for-poets/index.html#0) and [two](https://codelabs.developers.google.com/codelabs/tensorflow-for-poets-2-tflite/index.html#0)"
   ]
  },
  {
   "cell_type": "markdown",
   "metadata": {},
   "source": [
    "This tutorial assumes you have installed tensorflow from [here](https://www.tensorflow.org/install/)"
   ]
  },
  {
   "cell_type": "markdown",
   "metadata": {},
   "source": [
    "## 1. Clone the git repository\n",
    "\n",
    "All the code used in this codelab is contained in this git repository. \n",
    "Clone the repository and cd into it. This is where we will be working."
   ]
  },
  {
   "cell_type": "code",
   "execution_count": null,
   "metadata": {},
   "outputs": [],
   "source": [
    "git clone https://github.com/googlecodelabs/tensorflow-for-poets-2\n",
    "\n",
    "cd tensorflow-for-poets-2"
   ]
  },
  {
   "cell_type": "markdown",
   "metadata": {},
   "source": [
    "## 2. Download [FIDS30](http://www.vicos.si/Downloads/FIDS30) dataset\n",
    "\n",
    "Rename the `FIDS30` folder to `fruit_photos` and move it in `tf_files` directory"
   ]
  },
  {
   "cell_type": "code",
   "execution_count": null,
   "metadata": {},
   "outputs": [],
   "source": [
    "ls tf_files/fruit_photos"
   ]
  },
  {
   "cell_type": "markdown",
   "metadata": {},
   "source": [
    "## 3. Retrain your MobileNet\n",
    "Details [here](https://codelabs.developers.google.com/codelabs/tensorflow-for-poets/index.html#3).<br>\n",
    "Configure the mobileNet to be trained"
   ]
  },
  {
   "cell_type": "code",
   "execution_count": null,
   "metadata": {},
   "outputs": [],
   "source": [
    "IMAGE_SIZE=224\n",
    "ARCHITECTURE=\"mobilenet_1.0_${IMAGE_SIZE}\""
   ]
  },
  {
   "cell_type": "markdown",
   "metadata": {},
   "source": [
    "Add the following lines to `create_image_lists()` function in `retrain.py` script"
   ]
  },
  {
   "cell_type": "code",
   "execution_count": null,
   "metadata": {},
   "outputs": [],
   "source": [
    "# make sure none of the list is empty, otherwise it will raise an error\n",
    "# when validating / testing\n",
    "if validation_percentage > 0 and not validation_images:\n",
    "  validation_images.append(training_images.pop())\n",
    "if testing_percentage > 0 and not testing_images:\n",
    "  testing_images.append(training_images.pop())"
   ]
  },
  {
   "cell_type": "markdown",
   "metadata": {},
   "source": [
    "Run the `retrain.py` script with appropriate parameters"
   ]
  },
  {
   "cell_type": "code",
   "execution_count": null,
   "metadata": {},
   "outputs": [],
   "source": [
    "python -m scripts.retrain \\\n",
    "--bottleneck_dir=tf_files/bottlenecks \\\n",
    "--how_many_training_steps=500 \\\n",
    "--model_dir=tf_files/models/ \\\n",
    "--summaries_dir=tf_files/training_summaries/\"${ARCHITECTURE}\" \\\n",
    "--output_graph=tf_files/retrained_graph.pb \\\n",
    "--output_labels=tf_files/retrained_labels.txt \\\n",
    "--architecture=\"${ARCHITECTURE}\" \\\n",
    "--image_dir=tf_files/fruit_photos \\\n",
    "--flip_left_right \\\n",
    "--random_crop 50 \\\n",
    "--random_scale 60 \\\n",
    "--random_brightness 60"
   ]
  },
  {
   "cell_type": "markdown",
   "metadata": {},
   "source": [
    "## 4. Evaluate your training\n",
    "Specify your own paths"
   ]
  },
  {
   "cell_type": "code",
   "execution_count": null,
   "metadata": {},
   "outputs": [],
   "source": [
    "python -m scripts.label_image --graph=tf_files/retrained_graph.pb --image=tf_files/IMG_20180108_153200.jpg"
   ]
  },
  {
   "cell_type": "markdown",
   "metadata": {},
   "source": [
    "## 5. Install TensorFlow: tf-nightly\n",
    "More details [here](https://www.tensorflow.org/install/install_linux)"
   ]
  },
  {
   "cell_type": "code",
   "execution_count": null,
   "metadata": {},
   "outputs": [],
   "source": [
    "sudo apt-get install python3-pip python3-dev python-virtualenv # for Python 3.n\n",
    "virtualenv --system-site-packages -p python3 tf-nightly # for Python 3.n\n",
    "source ~/tf-nightly/bin/activate # bash, sh, ksh, or zsh\n",
    "pip3 install --upgrade tf-nightly     # for Python 3.n without GPU"
   ]
  },
  {
   "cell_type": "markdown",
   "metadata": {},
   "source": [
    "### Optimize your model"
   ]
  },
  {
   "cell_type": "code",
   "execution_count": null,
   "metadata": {},
   "outputs": [],
   "source": [
    "IMAGE_SIZE=224\n",
    "toco \\\n",
    "--input_file=tf_files/retrained_graph.pb \\\n",
    "--output_file=tf_files/optimized_graph.pb \\\n",
    "--input_format=TENSORFLOW_GRAPHDEF \\\n",
    "--output_format=TENSORFLOW_GRAPHDEF \\\n",
    "--input_shape=1,${IMAGE_SIZE},${IMAGE_SIZE},3 \\\n",
    "--input_array=input \\\n",
    "--output_array=final_result"
   ]
  },
  {
   "cell_type": "markdown",
   "metadata": {},
   "source": [
    "### Verify optimized model"
   ]
  },
  {
   "cell_type": "code",
   "execution_count": null,
   "metadata": {},
   "outputs": [],
   "source": [
    "python -m scripts.label_image \\\n",
    "--graph=tf_files/optimized_graph.pb \\\n",
    "--image=tf_files/IMG_20180108_153200.jpg"
   ]
  },
  {
   "cell_type": "markdown",
   "metadata": {},
   "source": [
    "## 6. Optimize the model to tf-lite format"
   ]
  },
  {
   "cell_type": "code",
   "execution_count": null,
   "metadata": {},
   "outputs": [],
   "source": [
    "IMAGE_SIZE=224\n",
    "toco \\\n",
    "--input_file=tf_files/retrained_graph.pb \\\n",
    "--output_file=tf_files/optimized_graph.lite \\\n",
    "--input_format=TENSORFLOW_GRAPHDEF \\\n",
    "--output_format=TFLITE \\\n",
    "--input_shape=1,${IMAGE_SIZE},${IMAGE_SIZE},3 \\\n",
    "--input_array=input \\\n",
    "--output_array=final_result \\\n",
    "--inference_type=FLOAT \\\n",
    "--input_type=FLOAT"
   ]
  },
  {
   "cell_type": "markdown",
   "metadata": {},
   "source": [
    "## 7. (Optional) Investigate the changes with TensorBoard"
   ]
  },
  {
   "cell_type": "code",
   "execution_count": null,
   "metadata": {},
   "outputs": [],
   "source": [
    "python -m scripts.graph_pb2tb tf_files/training_summaries/retrained \\\n",
    "tf_files/retrained_graph.pb \n",
    "\n",
    "python -m scripts.graph_pb2tb tf_files/training_summaries/optimized \\\n",
    "tf_files/optimized_graph.pb \n",
    "    \n",
    "pkill -f tensorboard\n",
    "tensorboard --logdir tf_files/training_summaries &"
   ]
  },
  {
   "cell_type": "markdown",
   "metadata": {},
   "source": [
    "## 8. Setup android app\n",
    "More details [here](https://codelabs.developers.google.com/codelabs/tensorflow-for-poets-2-tflite/index.html#4).\n",
    "In the file selector, choose `tensorflow-for-poets-2/android/tflite` from your working directory."
   ]
  },
  {
   "cell_type": "markdown",
   "metadata": {},
   "source": [
    "### Add your model files to the project"
   ]
  },
  {
   "cell_type": "code",
   "execution_count": null,
   "metadata": {},
   "outputs": [],
   "source": [
    "cp tf_files/optimized_graph.lite android/tflite/app/src/main/assets/graph.lite \n",
    "cp tf_files/retrained_labels.txt android/tflite/app/src/main/assets/labels.txt "
   ]
  },
  {
   "cell_type": "markdown",
   "metadata": {},
   "source": [
    "# 9. DONE !"
   ]
  },
  {
   "cell_type": "code",
   "execution_count": null,
   "metadata": {},
   "outputs": [],
   "source": []
  }
 ],
 "metadata": {
  "kernelspec": {
   "display_name": "Python 3",
   "language": "python",
   "name": "python3"
  },
  "language_info": {
   "codemirror_mode": {
    "name": "ipython",
    "version": 3
   },
   "file_extension": ".py",
   "mimetype": "text/x-python",
   "name": "python",
   "nbconvert_exporter": "python",
   "pygments_lexer": "ipython3",
   "version": "3.5.2"
  }
 },
 "nbformat": 4,
 "nbformat_minor": 2
}
