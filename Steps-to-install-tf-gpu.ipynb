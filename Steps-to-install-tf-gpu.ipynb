{
 "cells": [
  {
   "cell_type": "markdown",
   "metadata": {},
   "source": [
    "# Steps to install Tensorflow GPU\n",
    "References [cuda](https://askubuntu.com/questions/799184/how-can-i-install-cuda-on-ubuntu-16-04), [cuDNN](https://stackoverflow.com/questions/31326015/how-to-verify-cudnn-installation/36978616#36978616), [tensorflow](https://www.tensorflow.org/install/install_sources#clone_the_tensorflow_repository)"
   ]
  },
  {
   "cell_type": "markdown",
   "metadata": {},
   "source": [
    "### Steps to install CUDA-8.0"
   ]
  },
  {
   "cell_type": "markdown",
   "metadata": {},
   "source": [
    "1. Install Nvidia drivers in additional drivers section in Software updater\n",
    "2. Now download Cuda version 8.0-GA2 from [here](https://developer.nvidia.com/cuda-toolkit-archive). NOTE: Download the .deb(local) file which has 2 files 1.9GB and 121.4MB.\n",
    "3. Download cuDNN v7.0.5 (Dec 5, 2017), for CUDA 8.0 from [here](https://developer.nvidia.com/rdp/cudnn-download)\n",
    "4. Follow [these](https://askubuntu.com/a/874421) to install CUDA "
   ]
  },
  {
   "cell_type": "markdown",
   "metadata": {},
   "source": [
    "### Steps to install cuDNN v7.0.5 (Dec 5, 2017), for CUDA 8.0"
   ]
  },
  {
   "cell_type": "code",
   "execution_count": null,
   "metadata": {},
   "outputs": [],
   "source": [
    "sudo cp -P include/cudnn.h /usr/local/cuda/include/\n",
    "sudo cp -P lib64/libcudnn* /usr/local/cuda/lib64/\n",
    "sudo chmod a+r /usr/local/cuda/include/cudnn.h\n",
    "sudo chmod a+r /usr/local/cuda/lib64/libcudnn*"
   ]
  },
  {
   "cell_type": "markdown",
   "metadata": {},
   "source": [
    "### Follow steps to build tensorflow from sources [here](https://www.tensorflow.org/install/install_sources#clone_the_tensorflow_repository) (time consuming) \n",
    "### OR \n",
    "### Try a prebuilt .whl file from [here](https://www.tensorflow.org/install/install_linux#InstallingVirtualenv) (less time)"
   ]
  },
  {
   "cell_type": "markdown",
   "metadata": {},
   "source": [
    "### Installing tf-nightly for tensorflow-lite\n",
    "1. Follow the same steps given to try a prebuilt .whl [here](https://www.tensorflow.org/install/install_linux#installing_with_virtualenv)\n",
    "2. Make sure to replace the following in step 5 `pip3 install --upgrade tensorflow-gpu # for Python 3.n and GPU` with `pip3 install --upgrade tf-nightly-gpu # for Python 3.n and GPU`"
   ]
  },
  {
   "cell_type": "markdown",
   "metadata": {},
   "source": [
    "# Validate your installation"
   ]
  },
  {
   "cell_type": "code",
   "execution_count": 1,
   "metadata": {},
   "outputs": [],
   "source": [
    "import tensorflow as tf"
   ]
  },
  {
   "cell_type": "code",
   "execution_count": 2,
   "metadata": {},
   "outputs": [],
   "source": [
    "hello = tf.constant('Hello, TensorFlow!')"
   ]
  },
  {
   "cell_type": "code",
   "execution_count": 3,
   "metadata": {},
   "outputs": [],
   "source": [
    "sess = tf.Session(config=tf.ConfigProto(log_device_placement=True))"
   ]
  },
  {
   "cell_type": "markdown",
   "metadata": {},
   "source": [
    "Check the command prompt in which this jupyter notebook is running to see the GPU device details printed out by the above command"
   ]
  },
  {
   "cell_type": "code",
   "execution_count": 4,
   "metadata": {},
   "outputs": [
    {
     "name": "stdout",
     "output_type": "stream",
     "text": [
      "b'Hello, TensorFlow!'\n"
     ]
    }
   ],
   "source": [
    "print(sess.run(hello))"
   ]
  },
  {
   "cell_type": "markdown",
   "metadata": {},
   "source": [
    "### Now follow the jupyter notebook in tfLite-fruits-demo file"
   ]
  }
 ],
 "metadata": {
  "kernelspec": {
   "display_name": "Python 3",
   "language": "python",
   "name": "python3"
  },
  "language_info": {
   "codemirror_mode": {
    "name": "ipython",
    "version": 3
   },
   "file_extension": ".py",
   "mimetype": "text/x-python",
   "name": "python",
   "nbconvert_exporter": "python",
   "pygments_lexer": "ipython3",
   "version": "3.5.2"
  }
 },
 "nbformat": 4,
 "nbformat_minor": 2
}
